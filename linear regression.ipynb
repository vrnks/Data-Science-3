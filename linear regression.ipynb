{
 "cells": [
  {
   "cell_type": "markdown",
   "metadata": {},
   "source": [
    "1 напишіть функцію гіпотези лінійної регресії у векторному вигляді;"
   ]
  },
  {
   "cell_type": "code",
   "execution_count": 1358,
   "metadata": {},
   "outputs": [],
   "source": [
    "import numpy as np\n",
    "\n",
    "def linear_hypothesis(W, X):\n",
    "    \"\"\"\n",
    "    Гіпотеза лінійної регресії у векторному вигляді.\n",
    "    Параметри:\n",
    "    - W: Вектор ваг.\n",
    "    - X: Матриця вхідних ознак.\n",
    "\n",
    "    Повертає:\n",
    "    - Гіпотеза лінійної регресії для кожного рядка вхідної матриці X.\n",
    "    \"\"\"\n",
    "    return np.dot(X, W)"
   ]
  },
  {
   "cell_type": "markdown",
   "metadata": {},
   "source": [
    "2 створіть функцію для обчислення функції втрат у векторному вигляді;"
   ]
  },
  {
   "cell_type": "code",
   "execution_count": 1359,
   "metadata": {},
   "outputs": [],
   "source": [
    "\n",
    "def loss_function(W, X, y):\n",
    "    \"\"\"\n",
    "    Обчислює функцію втрат.\n",
    "    Параметри:\n",
    "    - W: Вектор ваг.\n",
    "    - X: Матриця вхідних ознак.\n",
    "    - y: Вектор фактичних значень.\n",
    "    - m: Кількість прикладів у датасеті.\n",
    "\n",
    "    Повертає:\n",
    "    - Значення функції втрат.\n",
    "    \"\"\"\n",
    "    # m = X.shape[0] \n",
    "    m = len(y)\n",
    "    hypothesis = linear_hypothesis(W, X)\n",
    "    squared_errors = (hypothesis - y) ** 2\n",
    "    cost = (1 / (2 * m)) * np.sum(squared_errors)\n",
    "    return cost\n"
   ]
  },
  {
   "cell_type": "markdown",
   "metadata": {},
   "source": [
    "3 реалізуйте один крок градієнтного спуску;"
   ]
  },
  {
   "cell_type": "code",
   "execution_count": 1360,
   "metadata": {},
   "outputs": [],
   "source": [
    "\n",
    "def gradient_descent_step(W, X, y, learning_rate =  0.00000001):\n",
    "    \"\"\"\n",
    "    Виконує один крок градієнтного спуску для лінійної регресії.\n",
    "\n",
    "    Параметри:\n",
    "    - W: Вектор ваг.\n",
    "    - X: Матриця вхідних ознак.\n",
    "    - y: Вектор фактичних значень.\n",
    "    - m: Кількість прикладів у датасеті.\n",
    "    - learning_rate: Крок навчання (швидкість навчання).\n",
    "\n",
    "    Повертає:\n",
    "    - Оновлений вектор параметрів моделі (ваги).\n",
    "    \"\"\"\n",
    "    # m = X.shape[0] \n",
    "    m = len(y)\n",
    "    hypothesis = linear_hypothesis(W, X)\n",
    "    gradient = (1 / m) * np.dot(X.T, (hypothesis - y))\n",
    "    W = W - learning_rate * gradient\n",
    "    \n",
    "    \n",
    "    return W\n"
   ]
  },
  {
   "cell_type": "markdown",
   "metadata": {},
   "source": [
    "Читання файлу\n"
   ]
  },
  {
   "cell_type": "code",
   "execution_count": 1361,
   "metadata": {},
   "outputs": [
    {
     "data": {
      "text/html": [
       "<div>\n",
       "<style scoped>\n",
       "    .dataframe tbody tr th:only-of-type {\n",
       "        vertical-align: middle;\n",
       "    }\n",
       "\n",
       "    .dataframe tbody tr th {\n",
       "        vertical-align: top;\n",
       "    }\n",
       "\n",
       "    .dataframe thead th {\n",
       "        text-align: right;\n",
       "    }\n",
       "</style>\n",
       "<table border=\"1\" class=\"dataframe\">\n",
       "  <thead>\n",
       "    <tr style=\"text-align: right;\">\n",
       "      <th></th>\n",
       "      <th>price</th>\n",
       "      <th>area</th>\n",
       "      <th>bedrooms</th>\n",
       "      <th>bathrooms</th>\n",
       "      <th>stories</th>\n",
       "      <th>mainroad</th>\n",
       "      <th>guestroom</th>\n",
       "      <th>basement</th>\n",
       "      <th>hotwaterheating</th>\n",
       "      <th>airconditioning</th>\n",
       "      <th>parking</th>\n",
       "      <th>prefarea</th>\n",
       "      <th>furnishingstatus</th>\n",
       "    </tr>\n",
       "  </thead>\n",
       "  <tbody>\n",
       "    <tr>\n",
       "      <th>0</th>\n",
       "      <td>13300000</td>\n",
       "      <td>7420</td>\n",
       "      <td>4</td>\n",
       "      <td>2</td>\n",
       "      <td>3</td>\n",
       "      <td>yes</td>\n",
       "      <td>no</td>\n",
       "      <td>no</td>\n",
       "      <td>no</td>\n",
       "      <td>yes</td>\n",
       "      <td>2</td>\n",
       "      <td>yes</td>\n",
       "      <td>furnished</td>\n",
       "    </tr>\n",
       "    <tr>\n",
       "      <th>1</th>\n",
       "      <td>12250000</td>\n",
       "      <td>8960</td>\n",
       "      <td>4</td>\n",
       "      <td>4</td>\n",
       "      <td>4</td>\n",
       "      <td>yes</td>\n",
       "      <td>no</td>\n",
       "      <td>no</td>\n",
       "      <td>no</td>\n",
       "      <td>yes</td>\n",
       "      <td>3</td>\n",
       "      <td>no</td>\n",
       "      <td>furnished</td>\n",
       "    </tr>\n",
       "    <tr>\n",
       "      <th>2</th>\n",
       "      <td>12250000</td>\n",
       "      <td>9960</td>\n",
       "      <td>3</td>\n",
       "      <td>2</td>\n",
       "      <td>2</td>\n",
       "      <td>yes</td>\n",
       "      <td>no</td>\n",
       "      <td>yes</td>\n",
       "      <td>no</td>\n",
       "      <td>no</td>\n",
       "      <td>2</td>\n",
       "      <td>yes</td>\n",
       "      <td>semi-furnished</td>\n",
       "    </tr>\n",
       "    <tr>\n",
       "      <th>3</th>\n",
       "      <td>12215000</td>\n",
       "      <td>7500</td>\n",
       "      <td>4</td>\n",
       "      <td>2</td>\n",
       "      <td>2</td>\n",
       "      <td>yes</td>\n",
       "      <td>no</td>\n",
       "      <td>yes</td>\n",
       "      <td>no</td>\n",
       "      <td>yes</td>\n",
       "      <td>3</td>\n",
       "      <td>yes</td>\n",
       "      <td>furnished</td>\n",
       "    </tr>\n",
       "    <tr>\n",
       "      <th>4</th>\n",
       "      <td>11410000</td>\n",
       "      <td>7420</td>\n",
       "      <td>4</td>\n",
       "      <td>1</td>\n",
       "      <td>2</td>\n",
       "      <td>yes</td>\n",
       "      <td>yes</td>\n",
       "      <td>yes</td>\n",
       "      <td>no</td>\n",
       "      <td>yes</td>\n",
       "      <td>2</td>\n",
       "      <td>no</td>\n",
       "      <td>furnished</td>\n",
       "    </tr>\n",
       "  </tbody>\n",
       "</table>\n",
       "</div>"
      ],
      "text/plain": [
       "      price  area  bedrooms  bathrooms  stories mainroad guestroom basement  \\\n",
       "0  13300000  7420         4          2        3      yes        no       no   \n",
       "1  12250000  8960         4          4        4      yes        no       no   \n",
       "2  12250000  9960         3          2        2      yes        no      yes   \n",
       "3  12215000  7500         4          2        2      yes        no      yes   \n",
       "4  11410000  7420         4          1        2      yes       yes      yes   \n",
       "\n",
       "  hotwaterheating airconditioning  parking prefarea furnishingstatus  \n",
       "0              no             yes        2      yes        furnished  \n",
       "1              no             yes        3       no        furnished  \n",
       "2              no              no        2      yes   semi-furnished  \n",
       "3              no             yes        3      yes        furnished  \n",
       "4              no             yes        2       no        furnished  "
      ]
     },
     "execution_count": 1361,
     "metadata": {},
     "output_type": "execute_result"
    }
   ],
   "source": [
    "import pandas as pd\n",
    "dataset = pd.read_csv(\"Housing.csv\")\n",
    "dataset.head()"
   ]
  },
  {
   "cell_type": "code",
   "execution_count": 1362,
   "metadata": {},
   "outputs": [
    {
     "data": {
      "text/plain": [
       "price               0\n",
       "area                0\n",
       "bedrooms            0\n",
       "bathrooms           0\n",
       "stories             0\n",
       "mainroad            0\n",
       "guestroom           0\n",
       "basement            0\n",
       "hotwaterheating     0\n",
       "airconditioning     0\n",
       "parking             0\n",
       "prefarea            0\n",
       "furnishingstatus    0\n",
       "dtype: int64"
      ]
     },
     "execution_count": 1362,
     "metadata": {},
     "output_type": "execute_result"
    }
   ],
   "source": [
    "dataset[dataset.isna()].count()\n"
   ]
  },
  {
   "cell_type": "code",
   "execution_count": 1363,
   "metadata": {},
   "outputs": [
    {
     "data": {
      "text/plain": [
       "(545, 13)"
      ]
     },
     "execution_count": 1363,
     "metadata": {},
     "output_type": "execute_result"
    }
   ],
   "source": [
    "dataset.shape"
   ]
  },
  {
   "cell_type": "markdown",
   "metadata": {},
   "source": [
    "4 знайдіть найкращі параметри вектор w для датасету прогнозуючу ціну на будинок залежно від площі, кількості ванних кімнат та кількості спалень;"
   ]
  },
  {
   "cell_type": "markdown",
   "metadata": {},
   "source": [
    "Виділення вхідних ознак X та вихідних значень y. Розділення даних на тренувальний та тестовий набори 80/20."
   ]
  },
  {
   "cell_type": "code",
   "execution_count": 1364,
   "metadata": {},
   "outputs": [],
   "source": [
    "\n",
    "from sklearn.linear_model import LinearRegression\n",
    "from sklearn.model_selection import train_test_split\n",
    "\n",
    "\n",
    "X = dataset[[\"area\", \"bedrooms\", \"bathrooms\"]]\n",
    "y = dataset[\"price\"]\n",
    "X = np.concatenate([np.ones((X.shape[0], 1)), X], axis=1)\n",
    "X_train, X_test, y_train, y_test = train_test_split(X, y, test_size=0.2, random_state=42)\n",
    "\n",
    "\n"
   ]
  },
  {
   "cell_type": "markdown",
   "metadata": {},
   "source": [
    "Навчання моделі"
   ]
  },
  {
   "cell_type": "code",
   "execution_count": 1365,
   "metadata": {},
   "outputs": [
    {
     "name": "stdout",
     "output_type": "stream",
     "text": [
      "Iteration 1/200, Cost: 6777141398398.96\n",
      "Iteration 2/200, Cost: 4029787983474.8247\n",
      "Iteration 3/200, Cost: 2737387038010.438\n",
      "Iteration 4/200, Cost: 2129420033856.1814\n",
      "Iteration 5/200, Cost: 1843422186667.764\n",
      "Iteration 6/200, Cost: 1708884008236.9485\n",
      "Iteration 7/200, Cost: 1645594987571.2566\n",
      "Iteration 8/200, Cost: 1615822760675.6865\n",
      "Iteration 9/200, Cost: 1601817393345.4204\n",
      "Iteration 10/200, Cost: 1595229020082.577\n",
      "Iteration 11/200, Cost: 1592129724702.8936\n",
      "Iteration 12/200, Cost: 1590671749831.774\n",
      "Iteration 13/200, Cost: 1589985879540.158\n",
      "Iteration 14/200, Cost: 1589663220137.9333\n",
      "Iteration 15/200, Cost: 1589511421204.1926\n",
      "Iteration 16/200, Cost: 1589439997888.4287\n",
      "Iteration 17/200, Cost: 1589406384605.7424\n",
      "Iteration 18/200, Cost: 1589390557794.0955\n",
      "Iteration 19/200, Cost: 1589383098035.4846\n",
      "Iteration 20/200, Cost: 1589379574278.3635\n",
      "Iteration 21/200, Cost: 1589377902082.08\n",
      "Iteration 22/200, Cost: 1589377100890.9392\n",
      "Iteration 23/200, Cost: 1589376709435.1643\n",
      "Iteration 24/200, Cost: 1589376510725.75\n",
      "Iteration 25/200, Cost: 1589376402687.4426\n",
      "Iteration 26/200, Cost: 1589376337302.3396\n",
      "Iteration 27/200, Cost: 1589376291982.0164\n",
      "Iteration 28/200, Cost: 1589376256100.5012\n",
      "Iteration 29/200, Cost: 1589376224659.1602\n",
      "Iteration 30/200, Cost: 1589376195306.5505\n",
      "Iteration 31/200, Cost: 1589376166936.5166\n",
      "Iteration 32/200, Cost: 1589376139028.7036\n",
      "Iteration 33/200, Cost: 1589376111338.3264\n",
      "Iteration 34/200, Cost: 1589376083750.2358\n",
      "Iteration 35/200, Cost: 1589376056210.2632\n",
      "Iteration 36/200, Cost: 1589376028692.927\n",
      "Iteration 37/200, Cost: 1589376001186.2393\n",
      "Iteration 38/200, Cost: 1589375973684.5615\n",
      "Iteration 39/200, Cost: 1589375946185.2412\n",
      "Iteration 40/200, Cost: 1589375918687.0303\n",
      "Iteration 41/200, Cost: 1589375891189.3418\n",
      "Iteration 42/200, Cost: 1589375863691.9004\n",
      "Iteration 43/200, Cost: 1589375836194.5747\n",
      "Iteration 44/200, Cost: 1589375808697.3044\n",
      "Iteration 45/200, Cost: 1589375781200.0615\n",
      "Iteration 46/200, Cost: 1589375753702.831\n",
      "Iteration 47/200, Cost: 1589375726205.6074\n",
      "Iteration 48/200, Cost: 1589375698708.3872\n",
      "Iteration 49/200, Cost: 1589375671211.1692\n",
      "Iteration 50/200, Cost: 1589375643713.9531\n",
      "Iteration 51/200, Cost: 1589375616216.7385\n",
      "Iteration 52/200, Cost: 1589375588719.5254\n",
      "Iteration 53/200, Cost: 1589375561222.3132\n",
      "Iteration 54/200, Cost: 1589375533725.102\n",
      "Iteration 55/200, Cost: 1589375506227.8916\n",
      "Iteration 56/200, Cost: 1589375478730.6826\n",
      "Iteration 57/200, Cost: 1589375451233.4749\n",
      "Iteration 58/200, Cost: 1589375423736.2678\n",
      "Iteration 59/200, Cost: 1589375396239.062\n",
      "Iteration 60/200, Cost: 1589375368741.858\n",
      "Iteration 61/200, Cost: 1589375341244.6538\n",
      "Iteration 62/200, Cost: 1589375313747.4514\n",
      "Iteration 63/200, Cost: 1589375286250.2495\n",
      "Iteration 64/200, Cost: 1589375258753.049\n",
      "Iteration 65/200, Cost: 1589375231255.8499\n",
      "Iteration 66/200, Cost: 1589375203758.6514\n",
      "Iteration 67/200, Cost: 1589375176261.4546\n",
      "Iteration 68/200, Cost: 1589375148764.258\n",
      "Iteration 69/200, Cost: 1589375121267.063\n",
      "Iteration 70/200, Cost: 1589375093769.8694\n",
      "Iteration 71/200, Cost: 1589375066272.676\n",
      "Iteration 72/200, Cost: 1589375038775.4846\n",
      "Iteration 73/200, Cost: 1589375011278.2935\n",
      "Iteration 74/200, Cost: 1589374983781.1038\n",
      "Iteration 75/200, Cost: 1589374956283.915\n",
      "Iteration 76/200, Cost: 1589374928786.7278\n",
      "Iteration 77/200, Cost: 1589374901289.5413\n",
      "Iteration 78/200, Cost: 1589374873792.3557\n",
      "Iteration 79/200, Cost: 1589374846295.1716\n",
      "Iteration 80/200, Cost: 1589374818797.988\n",
      "Iteration 81/200, Cost: 1589374791300.8057\n",
      "Iteration 82/200, Cost: 1589374763803.6245\n",
      "Iteration 83/200, Cost: 1589374736306.4448\n",
      "Iteration 84/200, Cost: 1589374708809.2656\n",
      "Iteration 85/200, Cost: 1589374681312.088\n",
      "Iteration 86/200, Cost: 1589374653814.911\n",
      "Iteration 87/200, Cost: 1589374626317.735\n",
      "Iteration 88/200, Cost: 1589374598820.5608\n",
      "Iteration 89/200, Cost: 1589374571323.3872\n",
      "Iteration 90/200, Cost: 1589374543826.2148\n",
      "Iteration 91/200, Cost: 1589374516329.0432\n",
      "Iteration 92/200, Cost: 1589374488831.8728\n",
      "Iteration 93/200, Cost: 1589374461334.7036\n",
      "Iteration 94/200, Cost: 1589374433837.5354\n",
      "Iteration 95/200, Cost: 1589374406340.368\n",
      "Iteration 96/200, Cost: 1589374378843.202\n",
      "Iteration 97/200, Cost: 1589374351346.0369\n",
      "Iteration 98/200, Cost: 1589374323848.8728\n",
      "Iteration 99/200, Cost: 1589374296351.71\n",
      "Iteration 100/200, Cost: 1589374268854.5486\n",
      "Iteration 101/200, Cost: 1589374241357.3877\n",
      "Iteration 102/200, Cost: 1589374213860.228\n",
      "Iteration 103/200, Cost: 1589374186363.069\n",
      "Iteration 104/200, Cost: 1589374158865.9119\n",
      "Iteration 105/200, Cost: 1589374131368.7551\n",
      "Iteration 106/200, Cost: 1589374103871.6\n",
      "Iteration 107/200, Cost: 1589374076374.4458\n",
      "Iteration 108/200, Cost: 1589374048877.2925\n",
      "Iteration 109/200, Cost: 1589374021380.1406\n",
      "Iteration 110/200, Cost: 1589373993882.9895\n",
      "Iteration 111/200, Cost: 1589373966385.8389\n",
      "Iteration 112/200, Cost: 1589373938888.6904\n",
      "Iteration 113/200, Cost: 1589373911391.5425\n",
      "Iteration 114/200, Cost: 1589373883894.3958\n",
      "Iteration 115/200, Cost: 1589373856397.25\n",
      "Iteration 116/200, Cost: 1589373828900.1057\n",
      "Iteration 117/200, Cost: 1589373801402.9622\n",
      "Iteration 118/200, Cost: 1589373773905.8196\n",
      "Iteration 119/200, Cost: 1589373746408.6777\n",
      "Iteration 120/200, Cost: 1589373718911.5378\n",
      "Iteration 121/200, Cost: 1589373691414.3982\n",
      "Iteration 122/200, Cost: 1589373663917.2607\n",
      "Iteration 123/200, Cost: 1589373636420.1233\n",
      "Iteration 124/200, Cost: 1589373608922.9873\n",
      "Iteration 125/200, Cost: 1589373581425.852\n",
      "Iteration 126/200, Cost: 1589373553928.7183\n",
      "Iteration 127/200, Cost: 1589373526431.5857\n",
      "Iteration 128/200, Cost: 1589373498934.4536\n",
      "Iteration 129/200, Cost: 1589373471437.323\n",
      "Iteration 130/200, Cost: 1589373443940.1934\n",
      "Iteration 131/200, Cost: 1589373416443.0652\n",
      "Iteration 132/200, Cost: 1589373388945.9373\n",
      "Iteration 133/200, Cost: 1589373361448.8115\n",
      "Iteration 134/200, Cost: 1589373333951.6855\n",
      "Iteration 135/200, Cost: 1589373306454.5615\n",
      "Iteration 136/200, Cost: 1589373278957.4387\n",
      "Iteration 137/200, Cost: 1589373251460.3167\n",
      "Iteration 138/200, Cost: 1589373223963.1956\n",
      "Iteration 139/200, Cost: 1589373196466.0752\n",
      "Iteration 140/200, Cost: 1589373168968.9568\n",
      "Iteration 141/200, Cost: 1589373141471.8389\n",
      "Iteration 142/200, Cost: 1589373113974.722\n",
      "Iteration 143/200, Cost: 1589373086477.6067\n",
      "Iteration 144/200, Cost: 1589373058980.4917\n",
      "Iteration 145/200, Cost: 1589373031483.3782\n",
      "Iteration 146/200, Cost: 1589373003986.2659\n",
      "Iteration 147/200, Cost: 1589372976489.1545\n",
      "Iteration 148/200, Cost: 1589372948992.0442\n",
      "Iteration 149/200, Cost: 1589372921494.9353\n",
      "Iteration 150/200, Cost: 1589372893997.8271\n",
      "Iteration 151/200, Cost: 1589372866500.7197\n",
      "Iteration 152/200, Cost: 1589372839003.614\n",
      "Iteration 153/200, Cost: 1589372811506.5088\n",
      "Iteration 154/200, Cost: 1589372784009.4048\n",
      "Iteration 155/200, Cost: 1589372756512.3027\n",
      "Iteration 156/200, Cost: 1589372729015.2007\n",
      "Iteration 157/200, Cost: 1589372701518.0999\n",
      "Iteration 158/200, Cost: 1589372674021.0005\n",
      "Iteration 159/200, Cost: 1589372646523.902\n",
      "Iteration 160/200, Cost: 1589372619026.805\n",
      "Iteration 161/200, Cost: 1589372591529.7087\n",
      "Iteration 162/200, Cost: 1589372564032.6133\n",
      "Iteration 163/200, Cost: 1589372536535.519\n",
      "Iteration 164/200, Cost: 1589372509038.4258\n",
      "Iteration 165/200, Cost: 1589372481541.3337\n",
      "Iteration 166/200, Cost: 1589372454044.2427\n",
      "Iteration 167/200, Cost: 1589372426547.153\n",
      "Iteration 168/200, Cost: 1589372399050.0642\n",
      "Iteration 169/200, Cost: 1589372371552.9766\n",
      "Iteration 170/200, Cost: 1589372344055.8896\n",
      "Iteration 171/200, Cost: 1589372316558.804\n",
      "Iteration 172/200, Cost: 1589372289061.7197\n",
      "Iteration 173/200, Cost: 1589372261564.6365\n",
      "Iteration 174/200, Cost: 1589372234067.554\n",
      "Iteration 175/200, Cost: 1589372206570.4727\n",
      "Iteration 176/200, Cost: 1589372179073.3923\n",
      "Iteration 177/200, Cost: 1589372151576.3132\n",
      "Iteration 178/200, Cost: 1589372124079.2349\n",
      "Iteration 179/200, Cost: 1589372096582.158\n",
      "Iteration 180/200, Cost: 1589372069085.082\n",
      "Iteration 181/200, Cost: 1589372041588.0076\n",
      "Iteration 182/200, Cost: 1589372014090.9336\n",
      "Iteration 183/200, Cost: 1589371986593.8608\n",
      "Iteration 184/200, Cost: 1589371959096.7896\n",
      "Iteration 185/200, Cost: 1589371931599.7185\n",
      "Iteration 186/200, Cost: 1589371904102.649\n",
      "Iteration 187/200, Cost: 1589371876605.5806\n",
      "Iteration 188/200, Cost: 1589371849108.5132\n",
      "Iteration 189/200, Cost: 1589371821611.4473\n",
      "Iteration 190/200, Cost: 1589371794114.382\n",
      "Iteration 191/200, Cost: 1589371766617.3184\n",
      "Iteration 192/200, Cost: 1589371739120.2546\n",
      "Iteration 193/200, Cost: 1589371711623.1926\n",
      "Iteration 194/200, Cost: 1589371684126.132\n",
      "Iteration 195/200, Cost: 1589371656629.0723\n",
      "Iteration 196/200, Cost: 1589371629132.0132\n",
      "Iteration 197/200, Cost: 1589371601634.9553\n",
      "Iteration 198/200, Cost: 1589371574137.8992\n",
      "Iteration 199/200, Cost: 1589371546640.8435\n",
      "Iteration 200/200, Cost: 1589371519143.7893\n",
      "[  0.91289526 837.92960474   3.25577582   1.70261065]\n"
     ]
    }
   ],
   "source": [
    "def gradient_descent(W, X, y, learning_rate, num_iterations):\n",
    "    for _ in range(num_iterations):\n",
    "        W = gradient_descent_step(W, X, y, learning_rate)\n",
    "        cost = loss_function(W, X, y)\n",
    "        print(f\"Iteration {_ + 1}/{num_iterations}, Cost: {cost}\")\n",
    "    return W\n",
    "\n",
    "w = np.zeros(X_train.shape[1])\n",
    "result = gradient_descent(w, X_train, y_train, 0.00000001, 200)\n",
    "print(result)\n"
   ]
  },
  {
   "cell_type": "markdown",
   "metadata": {},
   "source": [
    "5 знайдіть ці ж параметри за допомогою аналітичного рішення;"
   ]
  },
  {
   "cell_type": "code",
   "execution_count": 1366,
   "metadata": {},
   "outputs": [
    {
     "name": "stdout",
     "output_type": "stream",
     "text": [
      "аналітичне рішення: [-1.73171608e+05  3.78762754e+02  4.06820034e+05  1.38604950e+06]\n"
     ]
    }
   ],
   "source": [
    "w_analytical = np.linalg.inv(X.T @ X) @ X.T @ y\n",
    "print(\"аналітичне рішення:\", w_analytical)"
   ]
  },
  {
   "cell_type": "code",
   "execution_count": 1367,
   "metadata": {},
   "outputs": [
    {
     "name": "stdout",
     "output_type": "stream",
     "text": [
      "[-1.73171608e+05  0.00000000e+00  3.78762754e+02  4.06820034e+05\n",
      "  1.38604950e+06]\n"
     ]
    }
   ],
   "source": [
    "model = LinearRegression()\n",
    "model.fit(X, y)\n",
    "\n",
    "w_scikit = np.concatenate((np.array([model.intercept_]), model.coef_), axis=0)\n",
    "print(w_scikit)\n"
   ]
  },
  {
   "cell_type": "markdown",
   "metadata": {},
   "source": [
    "6 порівняйте отримані результати."
   ]
  },
  {
   "cell_type": "code",
   "execution_count": 1368,
   "metadata": {},
   "outputs": [
    {
     "data": {
      "image/png": "[encoded data removed]",
      "text/plain": [
       "<Figure size 640x480 with 1 Axes>"
      ]
     },
     "metadata": {},
     "output_type": "display_data"
    },
    {
     "data": {
      "image/png": "[encoded data removed]",
      "text/plain": [
       "<Figure size 640x480 with 1 Axes>"
      ]
     },
     "metadata": {},
     "output_type": "display_data"
    }
   ],
   "source": [
    "import matplotlib.pyplot as plt\n",
    "\n",
    "def plot_results(X, y, W, title):\n",
    "    plt.scatter(X[:, 1], y, label='Actual data', color='blue')\n",
    "    plt.scatter(X[:, 1], linear_hypothesis(W, X), label='Predicted data', color='red')\n",
    "    plt.title(title)\n",
    "    plt.xlabel('Input features')\n",
    "    plt.ylabel('Target values')\n",
    "    plt.legend()\n",
    "    plt.show()\n",
    "\n",
    "plot_results(X_train, y_train, result, 'Gradient Descent')\n",
    "plot_results(X_train, y_train, w_analytical, 'Analytical Solution')\n",
    "\n",
    "\n"
   ]
  }
 ],
 "metadata": {
  "kernelspec": {
   "display_name": "Python 3",
   "language": "python",
   "name": "python3"
  },
  "language_info": {
   "codemirror_mode": {
    "name": "ipython",
    "version": 3
   },
   "file_extension": ".py",
   "mimetype": "text/x-python",
   "name": "python",
   "nbconvert_exporter": "python",
   "pygments_lexer": "ipython3",
   "version": "3.11.3"
  }
 },
 "nbformat": 4,
 "nbformat_minor": 2
}
